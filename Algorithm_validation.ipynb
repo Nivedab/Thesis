{
 "cells": [
  {
   "cell_type": "code",
   "execution_count": 2,
   "metadata": {},
   "outputs": [
    {
     "name": "stdout",
     "output_type": "stream",
     "text": [
      "Name: \n",
      "Type: Graph\n",
      "Number of nodes: 31135\n",
      "Number of edges: 642287\n",
      "Average degree:  41.2582\n"
     ]
    }
   ],
   "source": [
    "import random\n",
    "import numpy as np\n",
    "from importlib import reload\n",
    "import matplotlib.pyplot as plt\n",
    "import networkx as nx\n",
    "\n",
    "# real dataset\n",
    "data_set = nx.read_edgelist('data/sample-ch2017.txt')\n",
    "no_node = nx.number_of_nodes(data_set)\n",
    "print (nx.info(data_set))"
   ]
  },
  {
   "cell_type": "code",
   "execution_count": 3,
   "metadata": {},
   "outputs": [
    {
     "data": {
      "text/plain": [
       "484678545.0"
      ]
     },
     "execution_count": 3,
     "metadata": {},
     "output_type": "execute_result"
    }
   ],
   "source": [
    "# number of edges if the graph was complete : f(n) = (n*(n-1))/2\n",
    "#cg = nx.complete_graph(no_node) # takes too long to execute thus hashed\n",
    "#print(nx.number_of_nodes(cg))\n",
    "\n",
    "no_edges_possible = (no_node * (no_node - 1)) / 2\n",
    "no_edges_possible"
   ]
  },
  {
   "cell_type": "code",
   "execution_count": 4,
   "metadata": {},
   "outputs": [
    {
     "name": "stdout",
     "output_type": "stream",
     "text": [
      "Number of Local bridges in 2017:  96038\n"
     ]
    }
   ],
   "source": [
    "# Local bridges (lb) (no common contacts)\n",
    "lb = list(nx.local_bridges(data_set , with_span = False))\n",
    "print('Number of Local bridges in 2017: ', len(list(nx.local_bridges(data_set, with_span = False))))\n",
    "\n",
    "# To create a list of nodes that belong to local node. from [('a','b'), ('c','b')] to ['a','b','c','b']\n",
    "new_lb = []\n",
    "for tup in lb:\n",
    "    for element in tup:\n",
    "        new_lb.append(element)  \n",
    "        \n",
    "#nd is to remove duplicates\n",
    "nodes_in_lb = list(set(new_lb))"
   ]
  },
  {
   "cell_type": "code",
   "execution_count": 5,
   "metadata": {},
   "outputs": [],
   "source": [
    "# to find second degree contacts of a single node\n",
    "\n",
    "def find_nodes(graph, node, distance):\n",
    "\n",
    "     # get all nodes within distance around the query node\n",
    "     nodes = set(nx.ego_graph(graph, node, radius=distance))\n",
    "\n",
    "     # remove nodes that are not **at** the specified distance but closer: removes all the first degree contact\n",
    "     if distance > 1:\n",
    "      nodes -= set(nx.ego_graph(graph, node, radius=distance-1))\n",
    "\n",
    "     return list(nodes)\n",
    "\n",
    "# example implementation\n",
    "#ba = find_nodes(data_set, nodes_in_lb[4], 2) # reeturns a list of all the nodes tat are 2nd deg\n",
    "#print((len(ba)))\n",
    "#ba\n"
   ]
  },
  {
   "cell_type": "code",
   "execution_count": 6,
   "metadata": {},
   "outputs": [],
   "source": [
    "# second degree contacts that pass through the LB of a single node\n",
    "# two parameters that it takes are 1) the graph itself here data_set 2) one specific local bridge (pair of nodes)\n",
    "# it returns : predictive edges between the [second degree node, the node that is the part of LB]  in that same order\n",
    "# returned variable is a nested list with the order 2\n",
    "def seconddegree (data_set, node_pair):\n",
    "    b = node_pair[0]\n",
    "    sdc_through_lb = []\n",
    "    n = list(data_set.neighbors(node_pair[1]))\n",
    "    pair =[]\n",
    "    \n",
    "    for a in range(len(n)):\n",
    "        lis = []\n",
    "        lis.append(n[a])\n",
    "        lis.append(b)\n",
    "        sdc_through_lb.append(lis)\n",
    "    return sdc_through_lb\n",
    "\n",
    "# example implementation\n",
    "#vr = seconddegree(data_set, lb[0])\n",
    "#print(vr)"
   ]
  },
  {
   "cell_type": "code",
   "execution_count": 7,
   "metadata": {},
   "outputs": [],
   "source": [
    "# works !! to get all the second degree edges with their respective nodes ! \n",
    "# It applies the above mentioned function to all the pair of nodes that form a local bridge\n",
    "# returns nested list of order 3 . \n",
    "# non existing edges ! predicted false edges\n",
    "# second node in this return set (pe) is always the node that is the part of a local bridge\n",
    "def allnodesseconddegree (data_set, lb):\n",
    "    sdc = []\n",
    "    for a in range(len(lb)):\n",
    "        var = seconddegree(data_set, lb[a])\n",
    "        sdc.append(var)\n",
    "    return sdc\n",
    "\n",
    "lb_second_degree_nodes = allnodesseconddegree(data_set, lb)\n",
    "#lb_second_degree_nodes"
   ]
  },
  {
   "cell_type": "code",
   "execution_count": 8,
   "metadata": {},
   "outputs": [
    {
     "name": "stdout",
     "output_type": "stream",
     "text": [
      "7086940\n",
      "3543470\n",
      "3343196\n",
      "3343196\n"
     ]
    }
   ],
   "source": [
    "# This works !!\n",
    "#now for the last condition ! No other mutual friend apart from ***\n",
    "# returns the nested list of all the edges(node pair) that have only one mutual friend that is a part of LB\n",
    "interseclist = []\n",
    "satisfy_hypothesis = []\n",
    "\n",
    "for a in range(len(lb_second_degree_nodes)):\n",
    "    for b in range(len(lb_second_degree_nodes[a])):\n",
    "        cc = lb_second_degree_nodes[a]\n",
    "        \n",
    "        for c in range(len(cc[b])):\n",
    "            dd = cc[b]\n",
    "            \n",
    "            if dd[0] != dd[1]:\n",
    "                n1 = set(list(data_set.neighbors(dd[0])))\n",
    "                n2 = set(list(data_set.neighbors(dd[1])))\n",
    "                intersection = list(n1.intersection(n2))\n",
    "                ls = []\n",
    "                \n",
    "                if len(intersection) == 1 :\n",
    "                    ls.append(dd[0])\n",
    "                    ls.append(dd[1])\n",
    "                    satisfy_hypothesis.append(ls)\n",
    "\n",
    "print(len(satisfy_hypothesis))\n",
    "\n",
    "## Post processing clean up!! \n",
    "\n",
    "# remove exact replications : eg [a,b] & [a,b] then only one is kept \n",
    "sh_tuples = set(map(tuple, satisfy_hypothesis))  #need to convert the inner lists to tuples so they are hashable\n",
    "no_duplication = list(map(list, sh_tuples))\n",
    "print(len(no_duplication))\n",
    "\n",
    "# works : if . [a,b] and [b, a] are in the list then only one either [a,b] or [b,a] is selected\n",
    "temp = set(frozenset(x) for x in no_duplication)\n",
    "lst = [list(x) for x in temp]\n",
    "print(len(lst))\n",
    "\n",
    "#to remove duplications: [a,a] should be discarded\n",
    "all_hypothesis_edges = []\n",
    "for a in range(len(lst)):\n",
    "    temp1 = lst[a]\n",
    "    list_holder = []\n",
    "    if temp1[0] != temp1[1]:\n",
    "        list_holder.append(temp1[0])\n",
    "        list_holder.append(temp1[1])\n",
    "        all_hypothesis_edges.append(list_holder)\n",
    "print(len(all_hypothesis_edges))\n",
    "\n",
    "# all_hypothesis_edges is the final list to use ! all_hypothesis_edges give a list of edges that are predicted to not get connected"
   ]
  },
  {
   "cell_type": "code",
   "execution_count": 9,
   "metadata": {},
   "outputs": [
    {
     "name": "stdout",
     "output_type": "stream",
     "text": [
      "Name: \n",
      "Type: Graph\n",
      "Number of nodes: 26276\n",
      "Number of edges: 672589\n",
      "Average degree:  51.1942\n",
      "Number of edges that can still be established: 345200950.0\n"
     ]
    }
   ],
   "source": [
    "# import 2018 dataset\n",
    "data_set2 = nx.read_edgelist('data/sample-ch2018.txt')\n",
    "node = nx.number_of_nodes(data_set2)\n",
    "print (nx.info(data_set2))\n",
    "fn = (node * (node - 1)) / 2\n",
    "print('Number of edges that can still be established:', fn)"
   ]
  },
  {
   "cell_type": "code",
   "execution_count": 10,
   "metadata": {},
   "outputs": [
    {
     "name": "stdout",
     "output_type": "stream",
     "text": [
      "517\n"
     ]
    }
   ],
   "source": [
    "edges = list(data_set2.edges)\n",
    "\n",
    "# straight nodes to match them all\n",
    "into_tuples = []\n",
    "for a in range(len(all_hypothesis_edges)):\n",
    "    ls = all_hypothesis_edges[a]\n",
    "    into_tuples.append(tuple(ls))\n",
    "    \n",
    "\n",
    "# straight list overrlap\n",
    "#using sets to solve time consuming stuff\n",
    "direct_overlap = list(set(into_tuples) & set(edges))\n",
    "print(len(direct_overlap))\n",
    "#print(direct_overlap)\n"
   ]
  },
  {
   "cell_type": "code",
   "execution_count": 11,
   "metadata": {},
   "outputs": [
    {
     "name": "stdout",
     "output_type": "stream",
     "text": [
      "['24018344', '15563685']\n",
      "['15563685', '24018344']\n",
      "521\n"
     ]
    }
   ],
   "source": [
    "# reversing the nodes to match them all\n",
    "# this reverse command operates on the list itself :: inplace reverse operation!!\n",
    "\n",
    "print((all_hypothesis_edges[7])) # before reversing the list\n",
    "for a in range(len(all_hypothesis_edges)):\n",
    "    all_hypothesis_edges[a].reverse()\n",
    "print((all_hypothesis_edges[7]))\n",
    "\n",
    "rev = []\n",
    "for a in range(len(all_hypothesis_edges)):\n",
    "    ls = all_hypothesis_edges[a]\n",
    "    rev.append(tuple(ls))\n",
    "\n",
    "\n",
    "# reversed list of lsst overlap\n",
    "#using sets to solve time consuming stuff\n",
    "reversed_overlap = list(set(rev) & set(edges))\n",
    "print(len(reversed_overlap))\n",
    "#print(reversed_overlap)\n"
   ]
  },
  {
   "cell_type": "code",
   "execution_count": 12,
   "metadata": {},
   "outputs": [
    {
     "name": "stdout",
     "output_type": "stream",
     "text": [
      "1038\n"
     ]
    }
   ],
   "source": [
    "total_edges_overlap = direct_overlap + reversed_overlap\n",
    "print(len(total_edges_overlap))\n",
    "# exports\n",
    "#np.savetxt(\"edges_that_overlap.csv\", total_edges_overlap, delimiter=\",\", fmt='%s')"
   ]
  },
  {
   "cell_type": "code",
   "execution_count": 14,
   "metadata": {},
   "outputs": [
    {
     "name": "stdout",
     "output_type": "stream",
     "text": [
      "332631\n",
      "('7394358', '7845466')\n",
      "Reversed list: ['7845466', '7394358']\n",
      "Reversed list: ('7845466', '7394358')\n",
      "290004\n",
      "Edges intersection length is: 622635\n"
     ]
    }
   ],
   "source": [
    "# to check the extra edges that was created in 2018 and did not exist in 2017\n",
    "edg2017 = list(data_set.edges)\n",
    "edges2018 = list(data_set2.edges)\n",
    "\n",
    "direct_intesection = list(set(edg2017) & set(edges2018)) # intersection between the two\n",
    "print(len(direct_intesection))\n",
    "\n",
    "# reverse checks\n",
    "print(edg2017[7])\n",
    "\n",
    "# to convert all the tuples to list so that they can then be reversed\n",
    "l = []\n",
    "for a in range(len(edg2017)):\n",
    "    ls = edg2017[a]\n",
    "    l.append(list(ls))\n",
    "\n",
    "# reversing the edg2017 list\n",
    "for a in range(len(l)):\n",
    "    l[a].reverse()\n",
    "\n",
    "# reverse checks\n",
    "print(\"Reversed list:\", l[7])\n",
    "\n",
    "#converting the list back to tuples so that the intersectio can be found\n",
    "lis =[]\n",
    "for a in range(len(l)):\n",
    "    ls = l[a]\n",
    "    lis.append(tuple(ls))\n",
    "    \n",
    "print(\"Reversed list:\",  lis[7])    \n",
    "   \n",
    "reversed_intersection = list(set(lis).intersection(set(edges2018)))\n",
    "print(len(reversed_intersection))\n",
    "\n",
    "#intesecction of 2017 and 2018 \n",
    "total_intersection = reversed_intersection + direct_intesection\n",
    "print('Edges intersection length is:', len(total_intersection))"
   ]
  },
  {
   "cell_type": "code",
   "execution_count": 15,
   "metadata": {},
   "outputs": [
    {
     "name": "stdout",
     "output_type": "stream",
     "text": [
      "49954\n"
     ]
    }
   ],
   "source": [
    "# difference\n",
    "difference = list((set(edges2018)).difference(set(total_intersection)))\n",
    "print(len(difference))\n"
   ]
  }
 ],
 "metadata": {
  "celltoolbar": "Raw Cell Format",
  "kernelspec": {
   "display_name": "Python 3",
   "language": "python",
   "name": "python3"
  },
  "language_info": {
   "codemirror_mode": {
    "name": "ipython",
    "version": 3
   },
   "file_extension": ".py",
   "mimetype": "text/x-python",
   "name": "python",
   "nbconvert_exporter": "python",
   "pygments_lexer": "ipython3",
   "version": "3.7.0"
  }
 },
 "nbformat": 4,
 "nbformat_minor": 2
}
