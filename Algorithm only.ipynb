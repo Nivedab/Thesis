{
 "cells": [
  {
   "cell_type": "code",
   "execution_count": 11,
   "metadata": {},
   "outputs": [
    {
     "name": "stdout",
     "output_type": "stream",
     "text": [
      "Name: \n",
      "Type: Graph\n",
      "Number of nodes: 31135\n",
      "Number of edges: 642287\n",
      "Average degree:  41.2582\n"
     ]
    }
   ],
   "source": [
    "import random\n",
    "import numpy \n",
    "from importlib import reload\n",
    "import matplotlib.pyplot as plt\n",
    "import networkx as nx\n",
    "\n",
    "# real dataset\n",
    "fb = nx.read_edgelist('data/sample-ch2017.txt')\n",
    "no_node = nx.number_of_nodes(fb)\n",
    "print (nx.info(fb))"
   ]
  },
  {
   "cell_type": "code",
   "execution_count": 2,
   "metadata": {},
   "outputs": [
    {
     "data": {
      "text/plain": [
       "484678545.0"
      ]
     },
     "execution_count": 2,
     "metadata": {},
     "output_type": "execute_result"
    }
   ],
   "source": [
    "# number of edges if the graph was complete : f(n) = (n*(n-1))/2\n",
    "#cg = nx.complete_graph(no_node) # takes too long to execute thus hashed\n",
    "#print(nx.number_of_nodes(cg))\n",
    "\n",
    "fn = (no_node * (no_node - 1)) / 2\n",
    "fn"
   ]
  },
  {
   "cell_type": "code",
   "execution_count": 3,
   "metadata": {},
   "outputs": [
    {
     "name": "stdout",
     "output_type": "stream",
     "text": [
      "Number of Local bridges in 2017 96038\n"
     ]
    }
   ],
   "source": [
    "# Local bridges (no common contacts)\n",
    "lb = list(nx.local_bridges(fb , with_span = False))\n",
    "print('Number of Local bridges in 2017', len(list(nx.local_bridges(fb, with_span = False))))\n",
    "\n",
    "# To create a list of nodes that belong to local node. from [('a','b'), ('c','b')] to ['a','b','c','b']\n",
    "new_lb = []\n",
    "for tup in lb:\n",
    "    for element in tup:\n",
    "        new_lb.append(element)        \n",
    "#nd is to remove duplicates\n",
    "nd = list(set(new_lb))"
   ]
  },
  {
   "cell_type": "code",
   "execution_count": 12,
   "metadata": {},
   "outputs": [
    {
     "name": "stdout",
     "output_type": "stream",
     "text": [
      "1096\n"
     ]
    }
   ],
   "source": [
    "# to find second degree contacts of a single node\n",
    "\n",
    "def find_nodes(graph, node, distance):\n",
    "\n",
    "     # get all nodes within distance around the query node\n",
    "     nodes = set(nx.ego_graph(graph, node, radius=distance))\n",
    "\n",
    "     # remove nodes that are not **at** the specified distance but closer: removes all the first degree contact\n",
    "     if distance > 1:\n",
    "      nodes -= set(nx.ego_graph(graph, node, radius=distance-1))\n",
    "\n",
    "     return list(nodes)\n",
    "\n",
    "# example implementation\n",
    "ba = find_nodes(fb, nd[4], 2) # reeturns a list of all the nodes tat are 2nd deg\n",
    "print((len(ba)))\n"
   ]
  },
  {
   "cell_type": "code",
   "execution_count": 17,
   "metadata": {},
   "outputs": [
    {
     "name": "stdout",
     "output_type": "stream",
     "text": [
      "[['7109699', '7394358'], ['7394358', '7394358'], ['6445187', '7394358'], ['15834620', '7394358'], ['12676456', '7394358'], ['3288614', '7394358'], ['8608401', '7394358'], ['3508642', '7394358'], ['4314068', '7394358'], ['6328848', '7394358'], ['11263739', '7394358'], ['7289901', '7394358'], ['19377693', '7394358'], ['17042143', '7394358'], ['20233629', '7394358'], ['10199686', '7394358'], ['8031066', '7394358'], ['14612556', '7394358'], ['23305655', '7394358'], ['13427664', '7394358'], ['17025', '7394358'], ['3552484', '7394358'], ['10154844', '7394358'], ['8619915', '7394358'], ['14526589', '7394358'], ['8819366', '7394358'], ['4319886', '7394358'], ['17047813', '7394358'], ['3206979', '7394358'], ['5661869', '7394358'], ['16126212', '7394358'], ['13779793', '7394358'], ['6378588', '7394358'], ['13652177', '7394358'], ['3398343', '7394358'], ['6415607', '7394358'], ['15187077', '7394358'], ['12684497', '7394358'], ['14993087', '7394358'], ['25815033', '7394358'], ['7732357', '7394358']]\n"
     ]
    }
   ],
   "source": [
    "# second degree contacts that pass through the LB of a single node\n",
    "# two parameters that it takes are 1) the graph itself here fb 2) one specific local bridge (pair of nodes)\n",
    "# it returns : predictive edges between the [second degree node, the node that is the part of LB]  in that same order\n",
    "# returned variable is a nested list with the order 2\n",
    "def seconddegree (fb, llbb):\n",
    "    #llb = list(lb[0])\n",
    "    b = llbb[0]\n",
    "    win = []\n",
    "    n = list(fb.neighbors(llbb[1]))\n",
    "    pair =[]\n",
    "    \n",
    "    for a in range(len(n)):\n",
    "        lis = []\n",
    "        lis.append(n[a])\n",
    "        lis.append(b)\n",
    "        win.append(lis)\n",
    "    return win\n",
    "\n",
    "# example implementation\n",
    "vr = seconddegree(fb, lb[0])\n",
    "print(vr)"
   ]
  },
  {
   "cell_type": "code",
   "execution_count": 18,
   "metadata": {},
   "outputs": [
    {
     "data": {
      "text/plain": [
       "[['7109699', '7394358'],\n",
       " ['7394358', '7394358'],\n",
       " ['6445187', '7394358'],\n",
       " ['15834620', '7394358'],\n",
       " ['12676456', '7394358'],\n",
       " ['3288614', '7394358'],\n",
       " ['8608401', '7394358'],\n",
       " ['3508642', '7394358'],\n",
       " ['4314068', '7394358'],\n",
       " ['6328848', '7394358'],\n",
       " ['11263739', '7394358'],\n",
       " ['7289901', '7394358'],\n",
       " ['19377693', '7394358'],\n",
       " ['17042143', '7394358'],\n",
       " ['20233629', '7394358'],\n",
       " ['10199686', '7394358'],\n",
       " ['8031066', '7394358'],\n",
       " ['14612556', '7394358'],\n",
       " ['23305655', '7394358'],\n",
       " ['13427664', '7394358'],\n",
       " ['17025', '7394358'],\n",
       " ['3552484', '7394358'],\n",
       " ['10154844', '7394358'],\n",
       " ['8619915', '7394358'],\n",
       " ['14526589', '7394358'],\n",
       " ['8819366', '7394358'],\n",
       " ['4319886', '7394358'],\n",
       " ['17047813', '7394358'],\n",
       " ['3206979', '7394358'],\n",
       " ['5661869', '7394358'],\n",
       " ['16126212', '7394358'],\n",
       " ['13779793', '7394358'],\n",
       " ['6378588', '7394358'],\n",
       " ['13652177', '7394358'],\n",
       " ['3398343', '7394358'],\n",
       " ['6415607', '7394358'],\n",
       " ['15187077', '7394358'],\n",
       " ['12684497', '7394358'],\n",
       " ['14993087', '7394358'],\n",
       " ['25815033', '7394358'],\n",
       " ['7732357', '7394358']]"
      ]
     },
     "execution_count": 18,
     "metadata": {},
     "output_type": "execute_result"
    }
   ],
   "source": [
    "# works !! to get all the second degree edges with their respective nodes ! \n",
    "# It applies the above mentioned function to all the pair of nodes that form a local bridge\n",
    "# returns nested list of order 3 . \n",
    "# non existing edges ! predicted false edges\n",
    "# second node in this return set (pe) is always the node that is the part of a local bridge\n",
    "def allnodesseconddegree (fb, lb):\n",
    "    pe = []\n",
    "    for a in range(len(lb)):\n",
    "        var = seconddegree(fb, lb[a])\n",
    "        pe.append(var)\n",
    "    return pe\n",
    "\n",
    "vv = allnodesseconddegree(fb, lb)\n",
    "#vv"
   ]
  },
  {
   "cell_type": "code",
   "execution_count": null,
   "metadata": {},
   "outputs": [],
   "source": [
    "# This works !!\n",
    "#now for the last condition ! No other mutual friend apart from ***\n",
    "# returns thee nested list of all the edges(node pair) that have only one mutual friend that is a part of LB\n",
    "interseclist = []\n",
    "ppe = []\n",
    "\n",
    "for a in range(len(vv)):\n",
    "    for b in range(len(vv[a])):\n",
    "        cc = vv[a]\n",
    "        #print(type(cc))\n",
    "        #print(cc[0])\n",
    "        \n",
    "        for c in range(len(cc[b])):\n",
    "            dd = cc[b]\n",
    "            #print(type(dd))\n",
    "            #print(dd[0])\n",
    "            #print(dd[1])\n",
    "            \n",
    "            if dd[0] != dd[1]:\n",
    "                n1 = set(list(fb.neighbors(dd[0])))\n",
    "                #print(n1)\n",
    "                #print(n2)\n",
    "                n2 = set(list(fb.neighbors(dd[1])))\n",
    "                intersection = list(n1.intersection(n2))\n",
    "                #interseclist.append(intersection)\n",
    "                ls = []\n",
    "                #for e in range(len(intersection)):\n",
    "                \n",
    "                if len(intersection) == 1 :\n",
    "                    ls.append(dd[0])\n",
    "                    ls.append(dd[1])\n",
    "                    ppe.append(ls)\n",
    "             \n",
    "#print(len(interseclist))\n",
    "#interseclist\n",
    "#print(len((set(interseclist))))\n",
    "print(len(ppe))\n",
    "\n",
    "## Post processing clean up!! \n",
    "\n",
    "# remove exact replications : eg [a,b] & [a,b] then only one is kept \n",
    "b_se = set(map(tuple,ppe))  #need to convert the inner lists to tuples so they are hashable\n",
    "nodup = list(map(list,b_se))\n",
    "print(len(nodup))\n",
    "\n",
    "# works : if . [a,b] and [b, a] are in the list then only one either [a,b] or [b,a] is selected\n",
    "fset = set(frozenset(x) for x in nodup)\n",
    "lst = [list(x) for x in fset]\n",
    "print(len(lst))\n",
    "lst\n",
    "\n",
    "# \n",
    "#to remove duplications: [a,a] should be discarded\n",
    "lsst = []\n",
    "for a in range(len(lst)):\n",
    "    ll = lst[a]\n",
    "    l = []\n",
    "    if ll[0] != ll[1]:\n",
    "        l.append(ll[0])\n",
    "        l.append(ll[1])\n",
    "        lsst.append(l)\n",
    "print(len(lsst))\n",
    "\n",
    "# lsst is thhe final list to use ! lsst give a list of edges taht are predicted to not get connected"
   ]
  },
  {
   "cell_type": "code",
   "execution_count": null,
   "metadata": {},
   "outputs": [],
   "source": [
    "# roughly 130 lines of code"
   ]
  }
 ],
 "metadata": {
  "celltoolbar": "Raw Cell Format",
  "kernelspec": {
   "display_name": "Python 3",
   "language": "python",
   "name": "python3"
  },
  "language_info": {
   "codemirror_mode": {
    "name": "ipython",
    "version": 3
   },
   "file_extension": ".py",
   "mimetype": "text/x-python",
   "name": "python",
   "nbconvert_exporter": "python",
   "pygments_lexer": "ipython3",
   "version": "3.7.0"
  }
 },
 "nbformat": 4,
 "nbformat_minor": 2
}
