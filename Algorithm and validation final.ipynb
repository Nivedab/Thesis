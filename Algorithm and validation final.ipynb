{
 "cells": [
  {
   "cell_type": "code",
   "execution_count": 1,
   "metadata": {},
   "outputs": [
    {
     "name": "stdout",
     "output_type": "stream",
     "text": [
      "Name: \n",
      "Type: Graph\n",
      "Number of nodes: 31135\n",
      "Number of edges: 642287\n",
      "Average degree:  41.2582\n"
     ]
    }
   ],
   "source": [
    "import random\n",
    "import numpy as np\n",
    "from importlib import reload\n",
    "import matplotlib.pyplot as plt\n",
    "import networkx as nx\n",
    "\n",
    "# real dataset\n",
    "fb = nx.read_edgelist('data/sample-ch2017.txt')\n",
    "no_node = nx.number_of_nodes(fb)\n",
    "print (nx.info(fb))"
   ]
  },
  {
   "cell_type": "code",
   "execution_count": 5,
   "metadata": {},
   "outputs": [
    {
     "data": {
      "text/plain": [
       "484678545.0"
      ]
     },
     "execution_count": 5,
     "metadata": {},
     "output_type": "execute_result"
    }
   ],
   "source": [
    "# number of edges if the graph was complete : f(n) = (n*(n-1))/2\n",
    "#cg = nx.complete_graph(no_node) # takes too long to execute thus hashed\n",
    "#print(nx.number_of_nodes(cg))\n",
    "\n",
    "fn = (no_node * (no_node - 1)) / 2\n",
    "fn"
   ]
  },
  {
   "cell_type": "code",
   "execution_count": 2,
   "metadata": {},
   "outputs": [
    {
     "name": "stdout",
     "output_type": "stream",
     "text": [
      "Number of Local bridges in 2017 96038\n"
     ]
    }
   ],
   "source": [
    "# Local bridges (no common contacts)\n",
    "lb = list(nx.local_bridges(fb , with_span = False))\n",
    "print('Number of Local bridges in 2017', len(list(nx.local_bridges(fb, with_span = False))))\n",
    "\n",
    "# To create a list of nodes that belong to local node. from [('a','b'), ('c','b')] to ['a','b','c','b']\n",
    "new_lb = []\n",
    "for tup in lb:\n",
    "    for element in tup:\n",
    "        new_lb.append(element)        \n",
    "#nd is to remove duplicates\n",
    "nd = list(set(new_lb))"
   ]
  },
  {
   "cell_type": "code",
   "execution_count": 3,
   "metadata": {},
   "outputs": [],
   "source": [
    "# to find second degree contacts of a single node\n",
    "\n",
    "def find_nodes(graph, node, distance):\n",
    "\n",
    "     # get all nodes within distance around the query node\n",
    "     nodes = set(nx.ego_graph(graph, node, radius=distance))\n",
    "\n",
    "     # remove nodes that are not **at** the specified distance but closer: removes all the first degree contact\n",
    "     if distance > 1:\n",
    "      nodes -= set(nx.ego_graph(graph, node, radius=distance-1))\n",
    "\n",
    "     return list(nodes)\n",
    "\n",
    "# example implementation\n",
    "#ba = find_nodes(fb, nd[4], 2) # reeturns a list of all the nodes tat are 2nd deg\n",
    "#print((len(ba)))\n",
    "#ba\n"
   ]
  },
  {
   "cell_type": "code",
   "execution_count": 4,
   "metadata": {},
   "outputs": [],
   "source": [
    "# second degree contacts that pass through the LB of a single node\n",
    "# two parameters that it takes are 1) the graph itself here fb 2) one specific local bridge (pair of nodes)\n",
    "# it returns : predictive edges between the [second degree node, the node that is the part of LB]  in that same order\n",
    "# returned variable is a nested list with the order 2\n",
    "def seconddegree (fb, llbb):\n",
    "    #llb = list(lb[0])\n",
    "    b = llbb[0]\n",
    "    win = []\n",
    "    n = list(fb.neighbors(llbb[1]))\n",
    "    pair =[]\n",
    "    \n",
    "    for a in range(len(n)):\n",
    "        lis = []\n",
    "        lis.append(n[a])\n",
    "        lis.append(b)\n",
    "        win.append(lis)\n",
    "    return win\n",
    "\n",
    "# example implementation\n",
    "#vr = seconddegree(fb, lb[0])\n",
    "#print(vr)"
   ]
  },
  {
   "cell_type": "code",
   "execution_count": 5,
   "metadata": {},
   "outputs": [],
   "source": [
    "# works !! to get all the second degree edges with their respective nodes ! \n",
    "# It applies the above mentioned function to all the pair of nodes that form a local bridge\n",
    "# returns nested list of order 3 . \n",
    "# non existing edges ! predicted false edges\n",
    "# second node in this return set (pe) is always the node that is the part of a local bridge\n",
    "def allnodesseconddegree (fb, lb):\n",
    "    pe = []\n",
    "    for a in range(len(lb)):\n",
    "        var = seconddegree(fb, lb[a])\n",
    "        pe.append(var)\n",
    "    return pe\n",
    "\n",
    "vv = allnodesseconddegree(fb, lb)\n",
    "#vv"
   ]
  },
  {
   "cell_type": "code",
   "execution_count": 6,
   "metadata": {},
   "outputs": [
    {
     "name": "stdout",
     "output_type": "stream",
     "text": [
      "7086940\n",
      "3543470\n",
      "3343196\n",
      "3343196\n"
     ]
    }
   ],
   "source": [
    "# This works !!\n",
    "#now for the last condition ! No other mutual friend apart from ***\n",
    "# returns thee nested list of all the edges(node pair) that have only one mutual friend that is a part of LB\n",
    "interseclist = []\n",
    "ppe = []\n",
    "\n",
    "for a in range(len(vv)):\n",
    "    for b in range(len(vv[a])):\n",
    "        cc = vv[a]\n",
    "        #print(type(cc))\n",
    "        #print(cc[0])\n",
    "        \n",
    "        for c in range(len(cc[b])):\n",
    "            dd = cc[b]\n",
    "            #print(type(dd))\n",
    "            #print(dd[0])\n",
    "            #print(dd[1])\n",
    "            \n",
    "            if dd[0] != dd[1]:\n",
    "                n1 = set(list(fb.neighbors(dd[0])))\n",
    "                #print(n1)\n",
    "                #print(n2)\n",
    "                n2 = set(list(fb.neighbors(dd[1])))\n",
    "                intersection = list(n1.intersection(n2))\n",
    "                #interseclist.append(intersection)\n",
    "                ls = []\n",
    "                #for e in range(len(intersection)):\n",
    "                \n",
    "                if len(intersection) == 1 :\n",
    "                    ls.append(dd[0])\n",
    "                    ls.append(dd[1])\n",
    "                    ppe.append(ls)\n",
    "             \n",
    "#print(len(interseclist))\n",
    "#interseclist\n",
    "#print(len((set(interseclist))))\n",
    "print(len(ppe))\n",
    "\n",
    "## Post processing clean up!! \n",
    "\n",
    "# remove exact replications : eg [a,b] & [a,b] then only one is kept \n",
    "b_se = set(map(tuple,ppe))  #need to convert the inner lists to tuples so they are hashable\n",
    "nodup = list(map(list,b_se))\n",
    "print(len(nodup))\n",
    "\n",
    "# works : if . [a,b] and [b, a] are in the list then only one either [a,b] or [b,a] is selected\n",
    "fset = set(frozenset(x) for x in nodup)\n",
    "lst = [list(x) for x in fset]\n",
    "print(len(lst))\n",
    "lst\n",
    "\n",
    "# \n",
    "#to remove duplications: [a,a] should be discarded\n",
    "lsst = []\n",
    "for a in range(len(lst)):\n",
    "    ll = lst[a]\n",
    "    l = []\n",
    "    if ll[0] != ll[1]:\n",
    "        l.append(ll[0])\n",
    "        l.append(ll[1])\n",
    "        lsst.append(l)\n",
    "print(len(lsst))\n",
    "\n",
    "# lsst is thhe final list to use ! lsst give a list of edges that are predicted to not get connected"
   ]
  },
  {
   "cell_type": "code",
   "execution_count": 7,
   "metadata": {},
   "outputs": [
    {
     "name": "stdout",
     "output_type": "stream",
     "text": [
      "Name: \n",
      "Type: Graph\n",
      "Number of nodes: 26276\n",
      "Number of edges: 672589\n",
      "Average degree:  51.1942\n",
      "Number off edgees that can still be established: 345200950.0\n"
     ]
    }
   ],
   "source": [
    "# import 2018 dataset\n",
    "fb2 = nx.read_edgelist('data/sample-ch2018.txt')\n",
    "node = nx.number_of_nodes(fb2)\n",
    "print (nx.info(fb2))\n",
    "fn = (node * (node - 1)) / 2\n",
    "print('Number off edgees that can still be established:', fn)"
   ]
  },
  {
   "cell_type": "code",
   "execution_count": 10,
   "metadata": {},
   "outputs": [
    {
     "name": "stdout",
     "output_type": "stream",
     "text": [
      "523\n"
     ]
    }
   ],
   "source": [
    "edges = list(fb2.edges)\n",
    "type(edges[2])\n",
    "\n",
    "# straight nodes to match them all\n",
    "lst = []\n",
    "for a in range(len(lsst)):\n",
    "    ls = lsst[a]\n",
    "    lst.append(tuple(ls))\n",
    "    \n",
    "\n",
    "# straight list overrlap\n",
    "#using sets to solve time consuming stuff\n",
    "x = list(set(lst) & set(edges))\n",
    "print(len(x))\n",
    "#print(x)\n"
   ]
  },
  {
   "cell_type": "code",
   "execution_count": 11,
   "metadata": {},
   "outputs": [
    {
     "name": "stdout",
     "output_type": "stream",
     "text": [
      "['10286548', '7140921']\n",
      "['7140921', '10286548']\n",
      "515\n"
     ]
    }
   ],
   "source": [
    "# reversing the nodes to match them all\n",
    "# this reverse command operates on the list itself :: inplace reverse operation!!\n",
    "\n",
    "print((lsst[7])) # before reversing the list\n",
    "for a in range(len(lsst)):\n",
    "    lsst[a].reverse()\n",
    "print((lsst[7]))\n",
    "\n",
    "lt = []\n",
    "for a in range(len(lsst)):\n",
    "    ls = lsst[a]\n",
    "    lt.append(tuple(ls))\n",
    "\n",
    "\n",
    "# reversed list of lsst overlap\n",
    "#using sets to solve time consuming stuff\n",
    "y = list(set(lt) & set(edges))\n",
    "print(len(y))\n",
    "#print(y)\n"
   ]
  },
  {
   "cell_type": "code",
   "execution_count": 12,
   "metadata": {},
   "outputs": [
    {
     "name": "stdout",
     "output_type": "stream",
     "text": [
      "1038\n"
     ]
    }
   ],
   "source": [
    "z = x+ y\n",
    "print(len(z))\n",
    "# exports\n",
    "#np.savetxt(\"edges_that_overlap.csv\", z, delimiter=\",\", fmt='%s')"
   ]
  },
  {
   "cell_type": "code",
   "execution_count": 14,
   "metadata": {},
   "outputs": [
    {
     "name": "stdout",
     "output_type": "stream",
     "text": [
      "332631\n",
      "('7394358', '7845466')\n",
      "Reversed list: ['7845466', '7394358']\n",
      "Reversed list: ('7845466', '7394358')\n",
      "290004\n",
      "Inteersection length is: 622635\n"
     ]
    }
   ],
   "source": [
    "# to check the extra edges that was created in 2018 and did not exist in 2017\n",
    "edg = list(fb.edges)\n",
    "edges = list(fb2.edges)\n",
    "\n",
    "bbaa = list(set(edg) & set(edges)) # inteersection between the two\n",
    "print(len(bbaa))\n",
    "\n",
    "# reverse checks\n",
    "print(edg[7])\n",
    "\n",
    "# to convert all the tuples to list so that they can then be reversed\n",
    "l = []\n",
    "for a in range(len(edg)):\n",
    "    ls = edg[a]\n",
    "    l.append(list(ls))\n",
    "\n",
    "# reversing the edg list\n",
    "for a in range(len(l)):\n",
    "    l[a].reverse()\n",
    "\n",
    "# reverse checks\n",
    "print(\"Reversed list:\", l[7])\n",
    "\n",
    "#converting the list back to tuples so that the intersectio can be found\n",
    "lis =[]\n",
    "for a in range(len(l)):\n",
    "    ls = l[a]\n",
    "    lis.append(tuple(ls))\n",
    "    \n",
    "print(\"Reversed list:\",  lis[7])    \n",
    "   \n",
    "bbbaa = list(set(lis).intersection(set(edges)))\n",
    "print(len(bbbaa))\n",
    "\n",
    "#intesecction of 2017 and 2018 \n",
    "is78 = bbbaa + bbaa\n",
    "print('Inteersection length is:', len(is78))"
   ]
  },
  {
   "cell_type": "code",
   "execution_count": 15,
   "metadata": {},
   "outputs": [
    {
     "name": "stdout",
     "output_type": "stream",
     "text": [
      "49954\n"
     ]
    }
   ],
   "source": [
    "# difference\n",
    "diff = list((set(edges)).difference(set(is78)))\n",
    "print(len(diff))\n"
   ]
  }
 ],
 "metadata": {
  "celltoolbar": "Raw Cell Format",
  "kernelspec": {
   "display_name": "Python 3",
   "language": "python",
   "name": "python3"
  },
  "language_info": {
   "codemirror_mode": {
    "name": "ipython",
    "version": 3
   },
   "file_extension": ".py",
   "mimetype": "text/x-python",
   "name": "python",
   "nbconvert_exporter": "python",
   "pygments_lexer": "ipython3",
   "version": "3.7.0"
  }
 },
 "nbformat": 4,
 "nbformat_minor": 2
}
